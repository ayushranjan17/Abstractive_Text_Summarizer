{
 "cells": [
  {
   "cell_type": "markdown",
   "id": "3811a5c1",
   "metadata": {
    "id": "IEq-oYpmSM5r",
    "papermill": {
     "duration": 0.030839,
     "end_time": "2021-08-29T04:30:25.076996",
     "exception": false,
     "start_time": "2021-08-29T04:30:25.046157",
     "status": "completed"
    },
    "tags": []
   },
   "source": [
    "# Text Summerization - Encoder Decoder with Attention Mechanism"
   ]
  },
  {
   "cell_type": "markdown",
   "id": "54210ff3",
   "metadata": {
    "id": "4iFfGxm4XgZl",
    "papermill": {
     "duration": 0.028857,
     "end_time": "2021-08-29T04:30:25.135380",
     "exception": false,
     "start_time": "2021-08-29T04:30:25.106523",
     "status": "completed"
    },
    "tags": []
   },
   "source": [
    "### Importing Basic libraries"
   ]
  },
  {
   "cell_type": "code",
   "execution_count": 2,
   "id": "ed8ae66a",
   "metadata": {
    "execution": {
     "iopub.execute_input": "2021-08-29T04:30:36.993849Z",
     "iopub.status.busy": "2021-08-29T04:30:36.993055Z",
     "iopub.status.idle": "2021-08-29T04:30:42.471641Z",
     "shell.execute_reply": "2021-08-29T04:30:42.471159Z",
     "shell.execute_reply.started": "2021-08-29T04:18:33.788717Z"
    },
    "id": "lisXNzYrYOoR",
    "outputId": "4ff65cf3-36bb-49c2-a6c3-08070c9233a0",
    "papermill": {
     "duration": 5.522994,
     "end_time": "2021-08-29T04:30:42.471773",
     "exception": false,
     "start_time": "2021-08-29T04:30:36.948779",
     "status": "completed"
    },
    "tags": []
   },
   "outputs": [
    {
     "name": "stdout",
     "output_type": "stream",
     "text": [
      "[nltk_data] Downloading package stopwords to /usr/share/nltk_data...\n",
      "[nltk_data]   Package stopwords is already up-to-date!\n"
     ]
    }
   ],
   "source": [
    "import re\n",
    "import os\n",
    "import numpy as np\n",
    "import pandas as pd\n",
    "import pprint\n",
    "import matplotlib.pyplot as plt\n",
    "\n",
    "import nltk\n",
    "nltk.download('stopwords')\n",
    "from nltk.corpus import stopwords\n",
    "import contractions\n",
    "from keras.preprocessing.text import Tokenizer\n",
    "from keras.preprocessing.sequence import pad_sequences\n",
    "\n",
    "import tensorflow as tf\n",
    "from tensorflow.keras.layers import Input, LSTM, Embedding, Dense, Concatenate, TimeDistributed, Bidirectional\n",
    "from tensorflow.keras.models import Model\n",
    "from tensorflow.keras.callbacks import EarlyStopping, ReduceLROnPlateau\n",
    "from keras import backend as K \n",
    "from tensorflow.python.keras.layers import Layer"
   ]
  },
  {
   "cell_type": "markdown",
   "id": "798683f3",
   "metadata": {
    "id": "GSr24NviXqio",
    "papermill": {
     "duration": 0.034721,
     "end_time": "2021-08-29T04:30:42.541367",
     "exception": false,
     "start_time": "2021-08-29T04:30:42.506646",
     "status": "completed"
    },
    "tags": []
   },
   "source": [
    "### Importing Data"
   ]
  },
  {
   "cell_type": "code",
   "execution_count": 3,
   "id": "e6e7cc82",
   "metadata": {
    "execution": {
     "iopub.execute_input": "2021-08-29T04:30:42.616021Z",
     "iopub.status.busy": "2021-08-29T04:30:42.615498Z",
     "iopub.status.idle": "2021-08-29T04:31:10.613688Z",
     "shell.execute_reply": "2021-08-29T04:31:10.613215Z",
     "shell.execute_reply.started": "2021-08-21T22:44:35.432176Z"
    },
    "papermill": {
     "duration": 28.037405,
     "end_time": "2021-08-29T04:31:10.613810",
     "exception": false,
     "start_time": "2021-08-29T04:30:42.576405",
     "status": "completed"
    },
    "tags": []
   },
   "outputs": [
    {
     "data": {
      "text/html": [
       "<div>\n",
       "<style scoped>\n",
       "    .dataframe tbody tr th:only-of-type {\n",
       "        vertical-align: middle;\n",
       "    }\n",
       "\n",
       "    .dataframe tbody tr th {\n",
       "        vertical-align: top;\n",
       "    }\n",
       "\n",
       "    .dataframe thead th {\n",
       "        text-align: right;\n",
       "    }\n",
       "</style>\n",
       "<table border=\"1\" class=\"dataframe\">\n",
       "  <thead>\n",
       "    <tr style=\"text-align: right;\">\n",
       "      <th></th>\n",
       "      <th>article</th>\n",
       "      <th>highlights</th>\n",
       "    </tr>\n",
       "  </thead>\n",
       "  <tbody>\n",
       "    <tr>\n",
       "      <th>0</th>\n",
       "      <td>By . Associated Press . PUBLISHED: . 14:11 EST...</td>\n",
       "      <td>Bishop John Folda, of North Dakota, is taking ...</td>\n",
       "    </tr>\n",
       "    <tr>\n",
       "      <th>1</th>\n",
       "      <td>(CNN) -- Ralph Mata was an internal affairs li...</td>\n",
       "      <td>Criminal complaint: Cop used his role to help ...</td>\n",
       "    </tr>\n",
       "    <tr>\n",
       "      <th>2</th>\n",
       "      <td>A drunk driver who killed a young woman in a h...</td>\n",
       "      <td>Craig Eccleston-Todd, 27, had drunk at least t...</td>\n",
       "    </tr>\n",
       "    <tr>\n",
       "      <th>3</th>\n",
       "      <td>(CNN) -- With a breezy sweep of his pen Presid...</td>\n",
       "      <td>Nina dos Santos says Europe must be ready to a...</td>\n",
       "    </tr>\n",
       "    <tr>\n",
       "      <th>4</th>\n",
       "      <td>Fleetwood are the only team still to have a 10...</td>\n",
       "      <td>Fleetwood top of League One after 2-0 win at S...</td>\n",
       "    </tr>\n",
       "  </tbody>\n",
       "</table>\n",
       "</div>"
      ],
      "text/plain": [
       "                                             article  \\\n",
       "0  By . Associated Press . PUBLISHED: . 14:11 EST...   \n",
       "1  (CNN) -- Ralph Mata was an internal affairs li...   \n",
       "2  A drunk driver who killed a young woman in a h...   \n",
       "3  (CNN) -- With a breezy sweep of his pen Presid...   \n",
       "4  Fleetwood are the only team still to have a 10...   \n",
       "\n",
       "                                          highlights  \n",
       "0  Bishop John Folda, of North Dakota, is taking ...  \n",
       "1  Criminal complaint: Cop used his role to help ...  \n",
       "2  Craig Eccleston-Todd, 27, had drunk at least t...  \n",
       "3  Nina dos Santos says Europe must be ready to a...  \n",
       "4  Fleetwood top of League One after 2-0 win at S...  "
      ]
     },
     "execution_count": 3,
     "metadata": {},
     "output_type": "execute_result"
    }
   ],
   "source": [
    "#Kaggle\n",
    "data_path = ['../input/cnn-dailymail/cnn_dailymail_train.csv', '../input/cnn-dailymail/cnn_dailymail_test.csv', '../input/cnn-dailymail/cnn_dailymail_test.csv']\n",
    "data = pd.concat((pd.read_csv(f, index_col=0, header=0) for f in data_path), ignore_index=True)\n",
    "data.head()"
   ]
  },
  {
   "cell_type": "code",
   "execution_count": 4,
   "id": "d9a0695f",
   "metadata": {
    "execution": {
     "iopub.execute_input": "2021-08-29T04:31:10.693696Z",
     "iopub.status.busy": "2021-08-29T04:31:10.693211Z",
     "iopub.status.idle": "2021-08-29T04:31:10.698279Z",
     "shell.execute_reply": "2021-08-29T04:31:10.697864Z"
    },
    "papermill": {
     "duration": 0.048922,
     "end_time": "2021-08-29T04:31:10.698387",
     "exception": false,
     "start_time": "2021-08-29T04:31:10.649465",
     "status": "completed"
    },
    "tags": []
   },
   "outputs": [
    {
     "data": {
      "text/html": [
       "<div>\n",
       "<style scoped>\n",
       "    .dataframe tbody tr th:only-of-type {\n",
       "        vertical-align: middle;\n",
       "    }\n",
       "\n",
       "    .dataframe tbody tr th {\n",
       "        vertical-align: top;\n",
       "    }\n",
       "\n",
       "    .dataframe thead th {\n",
       "        text-align: right;\n",
       "    }\n",
       "</style>\n",
       "<table border=\"1\" class=\"dataframe\">\n",
       "  <thead>\n",
       "    <tr style=\"text-align: right;\">\n",
       "      <th></th>\n",
       "      <th>article</th>\n",
       "      <th>highlights</th>\n",
       "    </tr>\n",
       "  </thead>\n",
       "  <tbody>\n",
       "    <tr>\n",
       "      <th>0</th>\n",
       "      <td>By . Associated Press . PUBLISHED: . 14:11 EST...</td>\n",
       "      <td>Bishop John Folda, of North Dakota, is taking ...</td>\n",
       "    </tr>\n",
       "    <tr>\n",
       "      <th>1</th>\n",
       "      <td>(CNN) -- Ralph Mata was an internal affairs li...</td>\n",
       "      <td>Criminal complaint: Cop used his role to help ...</td>\n",
       "    </tr>\n",
       "    <tr>\n",
       "      <th>2</th>\n",
       "      <td>A drunk driver who killed a young woman in a h...</td>\n",
       "      <td>Craig Eccleston-Todd, 27, had drunk at least t...</td>\n",
       "    </tr>\n",
       "    <tr>\n",
       "      <th>3</th>\n",
       "      <td>(CNN) -- With a breezy sweep of his pen Presid...</td>\n",
       "      <td>Nina dos Santos says Europe must be ready to a...</td>\n",
       "    </tr>\n",
       "    <tr>\n",
       "      <th>4</th>\n",
       "      <td>Fleetwood are the only team still to have a 10...</td>\n",
       "      <td>Fleetwood top of League One after 2-0 win at S...</td>\n",
       "    </tr>\n",
       "    <tr>\n",
       "      <th>...</th>\n",
       "      <td>...</td>\n",
       "      <td>...</td>\n",
       "    </tr>\n",
       "    <tr>\n",
       "      <th>310088</th>\n",
       "      <td>Our young Earth may have collided with a body ...</td>\n",
       "      <td>Oxford scientists say a Mercury-like body stru...</td>\n",
       "    </tr>\n",
       "    <tr>\n",
       "      <th>310089</th>\n",
       "      <td>A man facing trial for helping his former love...</td>\n",
       "      <td>Man accused of helping former lover kill woman...</td>\n",
       "    </tr>\n",
       "    <tr>\n",
       "      <th>310090</th>\n",
       "      <td>A dozen or more metal implements are arranged ...</td>\n",
       "      <td>Marianne Power tried the tuning fork facial at...</td>\n",
       "    </tr>\n",
       "    <tr>\n",
       "      <th>310091</th>\n",
       "      <td>Brook Lopez dominated twin brother Robin with ...</td>\n",
       "      <td>Brooklyn Nets beat the Portland Trail Blazers ...</td>\n",
       "    </tr>\n",
       "    <tr>\n",
       "      <th>310092</th>\n",
       "      <td>A Chinese hospital is being painstakingly move...</td>\n",
       "      <td>Chinese hospital marked for demolition because...</td>\n",
       "    </tr>\n",
       "  </tbody>\n",
       "</table>\n",
       "<p>310093 rows × 2 columns</p>\n",
       "</div>"
      ],
      "text/plain": [
       "                                                  article  \\\n",
       "0       By . Associated Press . PUBLISHED: . 14:11 EST...   \n",
       "1       (CNN) -- Ralph Mata was an internal affairs li...   \n",
       "2       A drunk driver who killed a young woman in a h...   \n",
       "3       (CNN) -- With a breezy sweep of his pen Presid...   \n",
       "4       Fleetwood are the only team still to have a 10...   \n",
       "...                                                   ...   \n",
       "310088  Our young Earth may have collided with a body ...   \n",
       "310089  A man facing trial for helping his former love...   \n",
       "310090  A dozen or more metal implements are arranged ...   \n",
       "310091  Brook Lopez dominated twin brother Robin with ...   \n",
       "310092  A Chinese hospital is being painstakingly move...   \n",
       "\n",
       "                                               highlights  \n",
       "0       Bishop John Folda, of North Dakota, is taking ...  \n",
       "1       Criminal complaint: Cop used his role to help ...  \n",
       "2       Craig Eccleston-Todd, 27, had drunk at least t...  \n",
       "3       Nina dos Santos says Europe must be ready to a...  \n",
       "4       Fleetwood top of League One after 2-0 win at S...  \n",
       "...                                                   ...  \n",
       "310088  Oxford scientists say a Mercury-like body stru...  \n",
       "310089  Man accused of helping former lover kill woman...  \n",
       "310090  Marianne Power tried the tuning fork facial at...  \n",
       "310091  Brooklyn Nets beat the Portland Trail Blazers ...  \n",
       "310092  Chinese hospital marked for demolition because...  \n",
       "\n",
       "[310093 rows x 2 columns]"
      ]
     },
     "execution_count": 4,
     "metadata": {},
     "output_type": "execute_result"
    }
   ],
   "source": [
    "data"
   ]
  },
  {
   "cell_type": "code",
   "execution_count": 5,
   "id": "bea2a0de",
   "metadata": {
    "execution": {
     "iopub.execute_input": "2021-08-29T04:31:10.862076Z",
     "iopub.status.busy": "2021-08-29T04:31:10.861275Z",
     "iopub.status.idle": "2021-08-29T04:31:11.134139Z",
     "shell.execute_reply": "2021-08-29T04:31:11.134563Z"
    },
    "id": "Mis8W95SAZ5_",
    "papermill": {
     "duration": 0.393848,
     "end_time": "2021-08-29T04:31:11.134727",
     "exception": false,
     "start_time": "2021-08-29T04:31:10.740879",
     "status": "completed"
    },
    "tags": []
   },
   "outputs": [],
   "source": [
    "data.drop_duplicates(subset=['highlights'],inplace=True)\n",
    "data.reset_index(inplace=True, drop=True)"
   ]
  },
  {
   "cell_type": "code",
   "execution_count": 6,
   "id": "537db367",
   "metadata": {
    "execution": {
     "iopub.execute_input": "2021-08-29T04:31:11.216930Z",
     "iopub.status.busy": "2021-08-29T04:31:11.216001Z",
     "iopub.status.idle": "2021-08-29T04:31:11.220674Z",
     "shell.execute_reply": "2021-08-29T04:31:11.220259Z"
    },
    "papermill": {
     "duration": 0.049798,
     "end_time": "2021-08-29T04:31:11.220786",
     "exception": false,
     "start_time": "2021-08-29T04:31:11.170988",
     "status": "completed"
    },
    "tags": []
   },
   "outputs": [
    {
     "data": {
      "text/html": [
       "<div>\n",
       "<style scoped>\n",
       "    .dataframe tbody tr th:only-of-type {\n",
       "        vertical-align: middle;\n",
       "    }\n",
       "\n",
       "    .dataframe tbody tr th {\n",
       "        vertical-align: top;\n",
       "    }\n",
       "\n",
       "    .dataframe thead th {\n",
       "        text-align: right;\n",
       "    }\n",
       "</style>\n",
       "<table border=\"1\" class=\"dataframe\">\n",
       "  <thead>\n",
       "    <tr style=\"text-align: right;\">\n",
       "      <th></th>\n",
       "      <th>article</th>\n",
       "      <th>highlights</th>\n",
       "    </tr>\n",
       "  </thead>\n",
       "  <tbody>\n",
       "    <tr>\n",
       "      <th>0</th>\n",
       "      <td>By . Associated Press . PUBLISHED: . 14:11 EST...</td>\n",
       "      <td>Bishop John Folda, of North Dakota, is taking ...</td>\n",
       "    </tr>\n",
       "    <tr>\n",
       "      <th>1</th>\n",
       "      <td>(CNN) -- Ralph Mata was an internal affairs li...</td>\n",
       "      <td>Criminal complaint: Cop used his role to help ...</td>\n",
       "    </tr>\n",
       "    <tr>\n",
       "      <th>2</th>\n",
       "      <td>A drunk driver who killed a young woman in a h...</td>\n",
       "      <td>Craig Eccleston-Todd, 27, had drunk at least t...</td>\n",
       "    </tr>\n",
       "    <tr>\n",
       "      <th>3</th>\n",
       "      <td>(CNN) -- With a breezy sweep of his pen Presid...</td>\n",
       "      <td>Nina dos Santos says Europe must be ready to a...</td>\n",
       "    </tr>\n",
       "    <tr>\n",
       "      <th>4</th>\n",
       "      <td>Fleetwood are the only team still to have a 10...</td>\n",
       "      <td>Fleetwood top of League One after 2-0 win at S...</td>\n",
       "    </tr>\n",
       "    <tr>\n",
       "      <th>...</th>\n",
       "      <td>...</td>\n",
       "      <td>...</td>\n",
       "    </tr>\n",
       "    <tr>\n",
       "      <th>293637</th>\n",
       "      <td>Our young Earth may have collided with a body ...</td>\n",
       "      <td>Oxford scientists say a Mercury-like body stru...</td>\n",
       "    </tr>\n",
       "    <tr>\n",
       "      <th>293638</th>\n",
       "      <td>A man facing trial for helping his former love...</td>\n",
       "      <td>Man accused of helping former lover kill woman...</td>\n",
       "    </tr>\n",
       "    <tr>\n",
       "      <th>293639</th>\n",
       "      <td>A dozen or more metal implements are arranged ...</td>\n",
       "      <td>Marianne Power tried the tuning fork facial at...</td>\n",
       "    </tr>\n",
       "    <tr>\n",
       "      <th>293640</th>\n",
       "      <td>Brook Lopez dominated twin brother Robin with ...</td>\n",
       "      <td>Brooklyn Nets beat the Portland Trail Blazers ...</td>\n",
       "    </tr>\n",
       "    <tr>\n",
       "      <th>293641</th>\n",
       "      <td>A Chinese hospital is being painstakingly move...</td>\n",
       "      <td>Chinese hospital marked for demolition because...</td>\n",
       "    </tr>\n",
       "  </tbody>\n",
       "</table>\n",
       "<p>293642 rows × 2 columns</p>\n",
       "</div>"
      ],
      "text/plain": [
       "                                                  article  \\\n",
       "0       By . Associated Press . PUBLISHED: . 14:11 EST...   \n",
       "1       (CNN) -- Ralph Mata was an internal affairs li...   \n",
       "2       A drunk driver who killed a young woman in a h...   \n",
       "3       (CNN) -- With a breezy sweep of his pen Presid...   \n",
       "4       Fleetwood are the only team still to have a 10...   \n",
       "...                                                   ...   \n",
       "293637  Our young Earth may have collided with a body ...   \n",
       "293638  A man facing trial for helping his former love...   \n",
       "293639  A dozen or more metal implements are arranged ...   \n",
       "293640  Brook Lopez dominated twin brother Robin with ...   \n",
       "293641  A Chinese hospital is being painstakingly move...   \n",
       "\n",
       "                                               highlights  \n",
       "0       Bishop John Folda, of North Dakota, is taking ...  \n",
       "1       Criminal complaint: Cop used his role to help ...  \n",
       "2       Craig Eccleston-Todd, 27, had drunk at least t...  \n",
       "3       Nina dos Santos says Europe must be ready to a...  \n",
       "4       Fleetwood top of League One after 2-0 win at S...  \n",
       "...                                                   ...  \n",
       "293637  Oxford scientists say a Mercury-like body stru...  \n",
       "293638  Man accused of helping former lover kill woman...  \n",
       "293639  Marianne Power tried the tuning fork facial at...  \n",
       "293640  Brooklyn Nets beat the Portland Trail Blazers ...  \n",
       "293641  Chinese hospital marked for demolition because...  \n",
       "\n",
       "[293642 rows x 2 columns]"
      ]
     },
     "execution_count": 6,
     "metadata": {},
     "output_type": "execute_result"
    }
   ],
   "source": [
    "data"
   ]
  },
  {
   "cell_type": "code",
   "execution_count": 7,
   "id": "38e3582d",
   "metadata": {
    "execution": {
     "iopub.execute_input": "2021-08-29T04:31:11.299864Z",
     "iopub.status.busy": "2021-08-29T04:31:11.299353Z",
     "iopub.status.idle": "2021-08-29T04:31:11.303730Z",
     "shell.execute_reply": "2021-08-29T04:31:11.303342Z",
     "shell.execute_reply.started": "2021-08-21T22:47:02.213366Z"
    },
    "id": "BV8b6w9YYOoa",
    "papermill": {
     "duration": 0.046911,
     "end_time": "2021-08-29T04:31:11.303833",
     "exception": false,
     "start_time": "2021-08-29T04:31:11.256922",
     "status": "completed"
    },
    "tags": []
   },
   "outputs": [],
   "source": [
    "stop_words = stopwords.words('english')\n",
    "\n",
    "def preprocess(text):\n",
    "    text = text.lower()\n",
    "    text = ' '.join([contractions.fix(word) for word in text.split(\" \")])    \n",
    "    \n",
    "    tokens = [w for w in text.split() if not w in stop_words]\n",
    "    text = \" \".join(tokens)\n",
    "    text = text.replace(\"'s\",'')\n",
    "    text = text.replace(\".\",'')\n",
    "    text = re.sub(r'\\(.*\\)','',text)\n",
    "    text = re.sub(r'[^a-zA-Z0-9. ]',' ',text)\n",
    "    text = re.sub(r'\\.','. ',text)\n",
    "    text = re.sub(r'\\s+', ' ', text)\n",
    "    return text\n"
   ]
  },
  {
   "cell_type": "code",
   "execution_count": 8,
   "id": "f2d67c13",
   "metadata": {
    "execution": {
     "iopub.execute_input": "2021-08-29T04:31:11.380988Z",
     "iopub.status.busy": "2021-08-29T04:31:11.380245Z",
     "iopub.status.idle": "2021-08-29T04:53:14.091567Z",
     "shell.execute_reply": "2021-08-29T04:53:14.092014Z",
     "shell.execute_reply.started": "2021-08-21T22:47:28.494037Z"
    },
    "id": "ewSx5cepYOob",
    "outputId": "55b255a6-367f-4443-8184-650066137e32",
    "papermill": {
     "duration": 1322.752321,
     "end_time": "2021-08-29T04:53:14.092174",
     "exception": false,
     "start_time": "2021-08-29T04:31:11.339853",
     "status": "completed"
    },
    "tags": []
   },
   "outputs": [
    {
     "name": "stdout",
     "output_type": "stream",
     "text": [
      "Summary:\n",
      "_START_ bishop john folda north dakota taking time diagnosed contracted infection contaminated food italy church members fargo grand forks jamestown could exposed  _END_\n",
      "Text:\n",
      " associated press published 14 11 est 25 october 2013 updated 15 36 est 25 october 2013 bishop fargo catholic diocese north dakota exposed potentially hundreds church members fargo grand forks jamestown hepatitis virus late september early october state health department issued advisory exposure anyone attended five churches took communion bishop john folda bishop located \n",
      "\n",
      "Summary:\n",
      "_START_ criminal complaint cop used role help cocaine traffickers ralph mata internal affairs lieutenant allegedly helped group get guns also arranged pay two assassins murder plot complaint alleges  _END_\n",
      "Text:\n",
      " decided move forward murder plot mata still received payment setting meetings federal prosecutors said statement complaint also alleges mata used police badge purchase weapons drug traffickers mata according complaint used contacts airport transport weapons carry on luggage trips miami dominican republic court documents released investigators specify name drug trafficking organization mata allegedly conspired says organization importing narcotics places ecuador dominican republic hiding inside shipping containers containing pallets produce including bananas organization has distributing narcotics new jersey elsewhere complaint says authorities arrested mata tuesday miami gardens florida immediately clear whether mata attorney police officials could immediately reached comment mata worked miami dade police department since 1992 including directing investigations miami gardens working lieutenant k 9 unit miami international airport according complaint since march 2010 working internal affairs division mata faces charges aiding abetting conspiracy distribute cocaine conspiring distribute cocaine engaging monetary transactions property derived specified unlawful activity scheduled appear federal court florida wednesday convicted mata could face life prison cnn suzanne presto contributed report\n",
      "\n"
     ]
    }
   ],
   "source": [
    "data['highlights'] = data['highlights'].apply(preprocess)\n",
    "data['article'] = data['article'].apply(preprocess)\n",
    "data['highlights'] = data['highlights'].apply(lambda x : '_START_ '+ x + ' _END_')\n",
    "\n",
    "for i in range(2):\n",
    "    print('Summary:', data['highlights'][i],'Text:', data['article'][i], sep='\\n')\n",
    "    print()"
   ]
  },
  {
   "cell_type": "code",
   "execution_count": 9,
   "id": "18246219",
   "metadata": {
    "execution": {
     "iopub.execute_input": "2021-08-29T04:53:14.197753Z",
     "iopub.status.busy": "2021-08-29T04:53:14.187470Z",
     "iopub.status.idle": "2021-08-29T04:53:20.177299Z",
     "shell.execute_reply": "2021-08-29T04:53:20.177809Z",
     "shell.execute_reply.started": "2021-08-21T22:47:32.262326Z"
    },
    "id": "Tb68xRjGNP8z",
    "papermill": {
     "duration": 6.049535,
     "end_time": "2021-08-29T04:53:20.177975",
     "exception": false,
     "start_time": "2021-08-29T04:53:14.128440",
     "status": "completed"
    },
    "tags": []
   },
   "outputs": [],
   "source": [
    "headlines_length = [len(x.split()) for x in data['highlights']]\n",
    "text_length = [len(x.split()) for x in data['article']]"
   ]
  },
  {
   "cell_type": "code",
   "execution_count": 10,
   "id": "1234d12b",
   "metadata": {
    "execution": {
     "iopub.execute_input": "2021-08-29T04:53:20.272773Z",
     "iopub.status.busy": "2021-08-29T04:53:20.272173Z",
     "iopub.status.idle": "2021-08-29T04:53:23.857710Z",
     "shell.execute_reply": "2021-08-29T04:53:23.857085Z",
     "shell.execute_reply.started": "2021-08-21T22:47:35.612293Z"
    },
    "id": "4exx0vZpoZDp",
    "outputId": "4fcef4de-8331-4731-b6af-be6b525e8351",
    "papermill": {
     "duration": 3.643294,
     "end_time": "2021-08-29T04:53:23.857833",
     "exception": false,
     "start_time": "2021-08-29T04:53:20.214539",
     "status": "completed"
    },
    "tags": []
   },
   "outputs": [
    {
     "data": {
      "image/png": "[encoded data removed]",
      "text/plain": [
       "<Figure size 720x360 with 2 Axes>"
      ]
     },
     "metadata": {
      "needs_background": "light"
     },
     "output_type": "display_data"
    }
   ],
   "source": [
    "fig, (ax1, ax2) = plt.subplots(1,2, figsize = (10,5))\n",
    "ax1.hist(headlines_length, bins = 20)\n",
    "ax2.hist(text_length, bins = 20)\n",
    "\n",
    "ax1.title.set_text(\"Words in Headlines\")\n",
    "ax2.title.set_text(\"Words in Text\")\n",
    "plt.show()"
   ]
  },
  {
   "cell_type": "code",
   "execution_count": 11,
   "id": "90f0e81f",
   "metadata": {
    "execution": {
     "iopub.execute_input": "2021-08-29T04:53:23.955670Z",
     "iopub.status.busy": "2021-08-29T04:53:23.950531Z",
     "iopub.status.idle": "2021-08-29T04:54:17.337545Z",
     "shell.execute_reply": "2021-08-29T04:54:17.337974Z",
     "shell.execute_reply.started": "2021-08-21T22:47:37.467481Z"
    },
    "papermill": {
     "duration": 53.442418,
     "end_time": "2021-08-29T04:54:17.338117",
     "exception": false,
     "start_time": "2021-08-29T04:53:23.895699",
     "status": "completed"
    },
    "tags": []
   },
   "outputs": [
    {
     "data": {
      "text/html": [
       "<div>\n",
       "<style scoped>\n",
       "    .dataframe tbody tr th:only-of-type {\n",
       "        vertical-align: middle;\n",
       "    }\n",
       "\n",
       "    .dataframe tbody tr th {\n",
       "        vertical-align: top;\n",
       "    }\n",
       "\n",
       "    .dataframe thead th {\n",
       "        text-align: right;\n",
       "    }\n",
       "</style>\n",
       "<table border=\"1\" class=\"dataframe\">\n",
       "  <thead>\n",
       "    <tr style=\"text-align: right;\">\n",
       "      <th></th>\n",
       "      <th>article</th>\n",
       "      <th>highlights</th>\n",
       "    </tr>\n",
       "  </thead>\n",
       "  <tbody>\n",
       "    <tr>\n",
       "      <th>0</th>\n",
       "      <td>associated press published 14 11 est 25 octob...</td>\n",
       "      <td>_START_ bishop john folda north dakota taking ...</td>\n",
       "    </tr>\n",
       "    <tr>\n",
       "      <th>1</th>\n",
       "      <td>decided move forward murder plot mata still r...</td>\n",
       "      <td>_START_ criminal complaint cop used role help ...</td>\n",
       "    </tr>\n",
       "    <tr>\n",
       "      <th>2</th>\n",
       "      <td>drunk driver killed young woman head on crash ...</td>\n",
       "      <td>_START_ craig eccleston todd 27 drunk least th...</td>\n",
       "    </tr>\n",
       "    <tr>\n",
       "      <th>3</th>\n",
       "      <td>accused making many fashion faux pas holiday p...</td>\n",
       "      <td>_START_ prime minister family enjoying easter ...</td>\n",
       "    </tr>\n",
       "    <tr>\n",
       "      <th>4</th>\n",
       "      <td>canberra australia campbell unscrews couple bo...</td>\n",
       "      <td>_START_ black box data flight 370 could analyz...</td>\n",
       "    </tr>\n",
       "    <tr>\n",
       "      <th>...</th>\n",
       "      <td>...</td>\n",
       "      <td>...</td>\n",
       "    </tr>\n",
       "    <tr>\n",
       "      <th>107210</th>\n",
       "      <td>3 000 students facing unexpected decision rece...</td>\n",
       "      <td>_START_ 3 118 applicants accepted freshmen uni...</td>\n",
       "    </tr>\n",
       "    <tr>\n",
       "      <th>107211</th>\n",
       "      <td>lydia ko shot 2 over 74 saturday ana inspirati...</td>\n",
       "      <td>_START_ lydia ko shot second straight over par...</td>\n",
       "    </tr>\n",
       "    <tr>\n",
       "      <th>107212</th>\n",
       "      <td>backache striking us younger ever almost half ...</td>\n",
       "      <td>_START_ 45 per cent 30s surveyed said painful ...</td>\n",
       "    </tr>\n",
       "    <tr>\n",
       "      <th>107213</th>\n",
       "      <td>young earth may collided body similar planet m...</td>\n",
       "      <td>_START_ oxford scientists say mercury like bod...</td>\n",
       "    </tr>\n",
       "    <tr>\n",
       "      <th>107214</th>\n",
       "      <td>brook lopez dominated twin brother robin 32 po...</td>\n",
       "      <td>_START_ brooklyn nets beat portland trail blaz...</td>\n",
       "    </tr>\n",
       "  </tbody>\n",
       "</table>\n",
       "<p>107215 rows × 2 columns</p>\n",
       "</div>"
      ],
      "text/plain": [
       "                                                  article  \\\n",
       "0        associated press published 14 11 est 25 octob...   \n",
       "1        decided move forward murder plot mata still r...   \n",
       "2       drunk driver killed young woman head on crash ...   \n",
       "3       accused making many fashion faux pas holiday p...   \n",
       "4       canberra australia campbell unscrews couple bo...   \n",
       "...                                                   ...   \n",
       "107210  3 000 students facing unexpected decision rece...   \n",
       "107211  lydia ko shot 2 over 74 saturday ana inspirati...   \n",
       "107212  backache striking us younger ever almost half ...   \n",
       "107213  young earth may collided body similar planet m...   \n",
       "107214  brook lopez dominated twin brother robin 32 po...   \n",
       "\n",
       "                                               highlights  \n",
       "0       _START_ bishop john folda north dakota taking ...  \n",
       "1       _START_ criminal complaint cop used role help ...  \n",
       "2       _START_ craig eccleston todd 27 drunk least th...  \n",
       "3       _START_ prime minister family enjoying easter ...  \n",
       "4       _START_ black box data flight 370 could analyz...  \n",
       "...                                                   ...  \n",
       "107210  _START_ 3 118 applicants accepted freshmen uni...  \n",
       "107211  _START_ lydia ko shot second straight over par...  \n",
       "107212  _START_ 45 per cent 30s surveyed said painful ...  \n",
       "107213  _START_ oxford scientists say mercury like bod...  \n",
       "107214  _START_ brooklyn nets beat portland trail blaz...  \n",
       "\n",
       "[107215 rows x 2 columns]"
      ]
     },
     "execution_count": 11,
     "metadata": {},
     "output_type": "execute_result"
    }
   ],
   "source": [
    "max_length_x = 250\n",
    "max_length_y = 50\n",
    "x = []\n",
    "y = []\n",
    "for ind in data.index:\n",
    "    if((len(data.iloc[ind]['article'].split()) <= max_length_x) and (len(data.iloc[ind]['highlights'].split()) <= max_length_y)):\n",
    "        x.append(data.iloc[ind]['article'])\n",
    "        y.append(data.iloc[ind]['highlights'])\n",
    "\n",
    "data = pd.DataFrame(list(zip(x,y)), columns=['article', 'highlights'])\n",
    "data"
   ]
  },
  {
   "cell_type": "markdown",
   "id": "688cdae6",
   "metadata": {
    "id": "5J6b2-BXoasR",
    "papermill": {
     "duration": 0.037358,
     "end_time": "2021-08-29T04:54:17.413391",
     "exception": false,
     "start_time": "2021-08-29T04:54:17.376033",
     "status": "completed"
    },
    "tags": []
   },
   "source": [
    "### Embedding Matrix from Glove\n"
   ]
  },
  {
   "cell_type": "code",
   "execution_count": 12,
   "id": "14f050ad",
   "metadata": {
    "execution": {
     "iopub.execute_input": "2021-08-29T04:54:17.492006Z",
     "iopub.status.busy": "2021-08-29T04:54:17.491416Z",
     "iopub.status.idle": "2021-08-29T04:54:17.504424Z",
     "shell.execute_reply": "2021-08-29T04:54:17.503918Z",
     "shell.execute_reply.started": "2021-08-21T22:47:45.928056Z"
    },
    "id": "7vLovzKr0m5S",
    "papermill": {
     "duration": 0.053764,
     "end_time": "2021-08-29T04:54:17.504527",
     "exception": false,
     "start_time": "2021-08-29T04:54:17.450763",
     "status": "completed"
    },
    "tags": []
   },
   "outputs": [],
   "source": [
    "glove_size = 300\n",
    "f = open('../input/glove42b300dtxt/glove.42B.300d.txt')"
   ]
  },
  {
   "cell_type": "code",
   "execution_count": 13,
   "id": "995f79e7",
   "metadata": {
    "execution": {
     "iopub.execute_input": "2021-08-29T04:54:17.584638Z",
     "iopub.status.busy": "2021-08-29T04:54:17.584128Z",
     "iopub.status.idle": "2021-08-29T04:57:59.917217Z",
     "shell.execute_reply": "2021-08-29T04:57:59.916323Z",
     "shell.execute_reply.started": "2021-08-21T22:47:46.49246Z"
    },
    "id": "KulasZGc0nDp",
    "papermill": {
     "duration": 222.375155,
     "end_time": "2021-08-29T04:57:59.917373",
     "exception": false,
     "start_time": "2021-08-29T04:54:17.542218",
     "status": "completed"
    },
    "tags": []
   },
   "outputs": [],
   "source": [
    "embeddings_index = dict()\n",
    "for line in f:\n",
    "    values = line.split()\n",
    "    embeddings_index[values[0]] = np.asarray(values[1:], dtype='float32')\n",
    "f.close()"
   ]
  },
  {
   "cell_type": "code",
   "execution_count": 14,
   "id": "3a387c29",
   "metadata": {
    "execution": {
     "iopub.execute_input": "2021-08-29T04:58:00.048541Z",
     "iopub.status.busy": "2021-08-29T04:58:00.033131Z",
     "iopub.status.idle": "2021-08-29T04:58:03.891527Z",
     "shell.execute_reply": "2021-08-29T04:58:03.892105Z",
     "shell.execute_reply.started": "2021-08-21T22:51:19.910646Z"
    },
    "id": "7JA07ZzL0nhw",
    "outputId": "5535e162-8446-4832-a2e9-82c5eb2dd588",
    "papermill": {
     "duration": 3.936587,
     "end_time": "2021-08-29T04:58:03.892312",
     "exception": false,
     "start_time": "2021-08-29T04:57:59.955725",
     "status": "completed"
    },
    "tags": []
   },
   "outputs": [
    {
     "name": "stdout",
     "output_type": "stream",
     "text": [
      "all the words in the corpus 16855703\n",
      "the unique words in the corpus 201371\n",
      "The number of words that are present in both glove vectors and our corpus are 160170 which is nearly 80.0% \n",
      "word 2 vec length 160170\n"
     ]
    }
   ],
   "source": [
    "words_source_train = []\n",
    "for i in data['article']:\n",
    "    words_source_train.extend(i.split(' '))\n",
    "\n",
    "print(\"all the words in the corpus\", len(words_source_train))\n",
    "words_source_train = set(words_source_train)\n",
    "print(\"the unique words in the corpus\", len(words_source_train))\n",
    "inter_words = set(embeddings_index.keys()).intersection(words_source_train)\n",
    "print(\"The number of words that are present in both glove vectors and our corpus are {} which \\\n",
    "is nearly {}% \".format(len(inter_words), np.round((float(len(inter_words))/len(words_source_train))\n",
    "*100)))\n",
    "\n",
    "words_corpus_source_train = {}\n",
    "words_glove = set(embeddings_index.keys())\n",
    "for i in words_source_train:\n",
    "    if i in words_glove:\n",
    "        words_corpus_source_train[i] = embeddings_index[i]\n",
    "print(\"word 2 vec length\", len(words_corpus_source_train))"
   ]
  },
  {
   "cell_type": "code",
   "execution_count": 15,
   "id": "afaddcee",
   "metadata": {
    "execution": {
     "iopub.execute_input": "2021-08-29T04:58:03.989328Z",
     "iopub.status.busy": "2021-08-29T04:58:03.987701Z",
     "iopub.status.idle": "2021-08-29T04:58:03.991515Z",
     "shell.execute_reply": "2021-08-29T04:58:03.991063Z",
     "shell.execute_reply.started": "2021-08-21T22:51:20.663484Z"
    },
    "papermill": {
     "duration": 0.059382,
     "end_time": "2021-08-29T04:58:03.991626",
     "exception": false,
     "start_time": "2021-08-29T04:58:03.932244",
     "status": "completed"
    },
    "tags": []
   },
   "outputs": [
    {
     "name": "stdout",
     "output_type": "stream",
     "text": [
      "['', 'tseleevo', 'auwkit', 'steadwood', 'wwwend7org', 'mantach', 'mangerson', 'eakah', 'perbse', 'morocoima', 'furloe', 'scimemi', 'naudel', 'zozu', 'lee10', 'dilawr', 'lovelanekitchencom', 'kamruzzama', 'batoashi', 'courtsiding']\n"
     ]
    }
   ],
   "source": [
    "print(list(words_source_train - inter_words)[:20])"
   ]
  },
  {
   "cell_type": "code",
   "execution_count": 16,
   "id": "25ad6250",
   "metadata": {
    "execution": {
     "iopub.execute_input": "2021-08-29T04:58:04.077109Z",
     "iopub.status.busy": "2021-08-29T04:58:04.074128Z",
     "iopub.status.idle": "2021-08-29T04:58:06.974656Z",
     "shell.execute_reply": "2021-08-29T04:58:06.974195Z",
     "shell.execute_reply.started": "2021-08-21T22:51:20.670832Z"
    },
    "id": "hT_Ak7qtkv2_",
    "papermill": {
     "duration": 2.94401,
     "end_time": "2021-08-29T04:58:06.974786",
     "exception": false,
     "start_time": "2021-08-29T04:58:04.030776",
     "status": "completed"
    },
    "tags": []
   },
   "outputs": [],
   "source": [
    "def num(text):\n",
    "  words = [w for w in text.split() if not w in inter_words]\n",
    "  return len(words)\n",
    "\n",
    "data['unique_words'] = data['article'].apply(num)"
   ]
  },
  {
   "cell_type": "code",
   "execution_count": 17,
   "id": "e8b3cd21",
   "metadata": {
    "execution": {
     "iopub.execute_input": "2021-08-29T04:58:07.058897Z",
     "iopub.status.busy": "2021-08-29T04:58:07.058178Z",
     "iopub.status.idle": "2021-08-29T04:58:07.064768Z",
     "shell.execute_reply": "2021-08-29T04:58:07.065185Z",
     "shell.execute_reply.started": "2021-08-21T22:51:20.687888Z"
    },
    "papermill": {
     "duration": 0.051422,
     "end_time": "2021-08-29T04:58:07.065316",
     "exception": false,
     "start_time": "2021-08-29T04:58:07.013894",
     "status": "completed"
    },
    "tags": []
   },
   "outputs": [
    {
     "data": {
      "text/plain": [
       "0     60441\n",
       "1     23249\n",
       "2     10718\n",
       "3      5254\n",
       "4      2838\n",
       "5      1704\n",
       "6      1026\n",
       "7       658\n",
       "8       444\n",
       "9       306\n",
       "10      199\n",
       "11      128\n",
       "12       77\n",
       "13       51\n",
       "14       36\n",
       "15       22\n",
       "17       16\n",
       "16       10\n",
       "19        7\n",
       "18        5\n",
       "20        5\n",
       "23        5\n",
       "21        3\n",
       "24        3\n",
       "27        3\n",
       "26        2\n",
       "22        1\n",
       "28        1\n",
       "29        1\n",
       "31        1\n",
       "50        1\n",
       "Name: unique_words, dtype: int64"
      ]
     },
     "execution_count": 17,
     "metadata": {},
     "output_type": "execute_result"
    }
   ],
   "source": [
    "data['unique_words'].value_counts()"
   ]
  },
  {
   "cell_type": "code",
   "execution_count": 18,
   "id": "74fd2d2a",
   "metadata": {
    "execution": {
     "iopub.execute_input": "2021-08-29T04:58:07.149865Z",
     "iopub.status.busy": "2021-08-29T04:58:07.149164Z",
     "iopub.status.idle": "2021-08-29T04:58:07.330310Z",
     "shell.execute_reply": "2021-08-29T04:58:07.329839Z",
     "shell.execute_reply.started": "2021-08-21T22:51:20.697946Z"
    },
    "id": "N4RZLvQ00zBN",
    "papermill": {
     "duration": 0.224301,
     "end_time": "2021-08-29T04:58:07.330438",
     "exception": false,
     "start_time": "2021-08-29T04:58:07.106137",
     "status": "completed"
    },
    "tags": []
   },
   "outputs": [],
   "source": [
    "data = data[data['unique_words'] < 4]\n",
    "data.reset_index(inplace=True, drop=True)"
   ]
  },
  {
   "cell_type": "code",
   "execution_count": 20,
   "id": "1139693d",
   "metadata": {
    "execution": {
     "iopub.execute_input": "2021-08-29T04:58:07.512919Z",
     "iopub.status.busy": "2021-08-29T04:58:07.512424Z",
     "iopub.status.idle": "2021-08-29T04:58:07.538624Z",
     "shell.execute_reply": "2021-08-29T04:58:07.538057Z",
     "shell.execute_reply.started": "2021-08-21T22:51:20.726011Z"
    },
    "id": "5JaGAWYn7kqR",
    "papermill": {
     "duration": 0.074297,
     "end_time": "2021-08-29T04:58:07.538748",
     "exception": false,
     "start_time": "2021-08-29T04:58:07.464451",
     "status": "completed"
    },
    "tags": []
   },
   "outputs": [],
   "source": [
    "from sklearn.model_selection import train_test_split\n",
    "X_train, X_val, y_train, y_val = train_test_split(data['article'], data['highlights'], test_size = 0.2, random_state = 20)\n",
    "X_test, X_val, y_test, y_val = train_test_split(X_val, y_val, test_size = 0.7, random_state = 20)"
   ]
  },
  {
   "cell_type": "code",
   "execution_count": 21,
   "id": "846a3725",
   "metadata": {
    "execution": {
     "iopub.execute_input": "2021-08-29T04:58:07.724708Z",
     "iopub.status.busy": "2021-08-29T04:58:07.723976Z",
     "iopub.status.idle": "2021-08-29T04:58:33.981578Z",
     "shell.execute_reply": "2021-08-29T04:58:33.981124Z",
     "shell.execute_reply.started": "2021-08-21T22:51:20.738817Z"
    },
    "id": "QXQdLrLK0l5B",
    "papermill": {
     "duration": 26.403302,
     "end_time": "2021-08-29T04:58:33.981706",
     "exception": false,
     "start_time": "2021-08-29T04:58:07.578404",
     "status": "completed"
    },
    "tags": []
   },
   "outputs": [],
   "source": [
    "x_t = Tokenizer()\n",
    "x_t.fit_on_texts(data['article'] + data['highlights'])\n",
    "x_vocab_size = len(x_t.word_index) + 1\n",
    "\n",
    "encoded_xtrain = x_t.texts_to_sequences(X_train)\n",
    "encoded_xval = x_t.texts_to_sequences(X_val)\n",
    "encoded_xtest = x_t.texts_to_sequences(X_test)\n",
    "\n",
    "padded_xtrain = pad_sequences(encoded_xtrain, maxlen=max_length_x, padding='post')\n",
    "padded_xval = pad_sequences(encoded_xval, maxlen=max_length_x, padding='post')\n",
    "padded_xtest = pad_sequences(encoded_xtest, maxlen=max_length_x, padding='post')"
   ]
  },
  {
   "cell_type": "code",
   "execution_count": 22,
   "id": "dac71ee6",
   "metadata": {
    "execution": {
     "iopub.execute_input": "2021-08-29T04:58:34.094975Z",
     "iopub.status.busy": "2021-08-29T04:58:34.084698Z",
     "iopub.status.idle": "2021-08-29T04:58:40.355495Z",
     "shell.execute_reply": "2021-08-29T04:58:40.355009Z",
     "shell.execute_reply.started": "2021-08-21T22:51:21.049904Z"
    },
    "id": "n7SVsptTNPtP",
    "papermill": {
     "duration": 6.33399,
     "end_time": "2021-08-29T04:58:40.355613",
     "exception": false,
     "start_time": "2021-08-29T04:58:34.021623",
     "status": "completed"
    },
    "tags": []
   },
   "outputs": [],
   "source": [
    "y_t = Tokenizer()\n",
    "y_t.fit_on_texts(data['highlights'])\n",
    "y_vocab_size = len(y_t.word_index) + 1\n",
    "\n",
    "encoded_ytrain = y_t.texts_to_sequences(y_train)\n",
    "encoded_yval = y_t.texts_to_sequences(y_val)\n",
    "encoded_ytest = y_t.texts_to_sequences(y_test)\n",
    "\n",
    "padded_ytrain = pad_sequences(encoded_ytrain, maxlen=max_length_y, padding='post')\n",
    "padded_yval = pad_sequences(encoded_yval, maxlen=max_length_y, padding='post')\n",
    "padded_ytest = pad_sequences(encoded_ytest, maxlen=max_length_y, padding='post')"
   ]
  },
  {
   "cell_type": "code",
   "execution_count": 23,
   "id": "7004502e",
   "metadata": {
    "execution": {
     "iopub.execute_input": "2021-08-29T04:58:40.440297Z",
     "iopub.status.busy": "2021-08-29T04:58:40.439480Z",
     "iopub.status.idle": "2021-08-29T04:58:41.048327Z",
     "shell.execute_reply": "2021-08-29T04:58:41.047549Z",
     "shell.execute_reply.started": "2021-08-21T22:51:21.074408Z"
    },
    "id": "rM-974HV0nKo",
    "outputId": "6aa27890-eaf7-4e0f-e594-8057efa18be6",
    "papermill": {
     "duration": 0.652944,
     "end_time": "2021-08-29T04:58:41.048472",
     "exception": false,
     "start_time": "2021-08-29T04:58:40.395528",
     "status": "completed"
    },
    "tags": []
   },
   "outputs": [
    {
     "name": "stdout",
     "output_type": "stream",
     "text": [
      "Loaded 1917494 word vectors.\n"
     ]
    }
   ],
   "source": [
    "print('Loaded %s word vectors.' % len(embeddings_index))\n",
    "\n",
    "embedding_matrix = np.zeros((x_vocab_size, glove_size))\n",
    "for word, i in x_t.word_index.items():\n",
    "    embedding_vector = embeddings_index.get(word)\n",
    "    if embedding_vector is not None:\n",
    "        embedding_matrix[i] = embedding_vector"
   ]
  },
  {
   "cell_type": "markdown",
   "id": "45baefb8",
   "metadata": {
    "id": "99aPNL7dqnfh",
    "papermill": {
     "duration": 0.039595,
     "end_time": "2021-08-29T04:58:41.128486",
     "exception": false,
     "start_time": "2021-08-29T04:58:41.088891",
     "status": "completed"
    },
    "tags": []
   },
   "source": [
    "### Building Model"
   ]
  },
  {
   "cell_type": "code",
   "execution_count": 24,
   "id": "65827fca",
   "metadata": {
    "execution": {
     "iopub.execute_input": "2021-08-29T04:58:41.223575Z",
     "iopub.status.busy": "2021-08-29T04:58:41.222792Z",
     "iopub.status.idle": "2021-08-29T04:58:41.225399Z",
     "shell.execute_reply": "2021-08-29T04:58:41.224981Z",
     "shell.execute_reply.started": "2021-08-21T22:51:21.099459Z"
    },
    "id": "GWuQ1AG8OdVL",
    "papermill": {
     "duration": 0.05716,
     "end_time": "2021-08-29T04:58:41.225499",
     "exception": false,
     "start_time": "2021-08-29T04:58:41.168339",
     "status": "completed"
    },
    "tags": []
   },
   "outputs": [],
   "source": [
    "class AttentionLayer(Layer):\n",
    "\n",
    "    def __init__(self, **kwargs):\n",
    "        super(AttentionLayer, self).__init__(**kwargs)\n",
    "\n",
    "    def build(self, input_shape):\n",
    "\n",
    "        self.W_a = self.add_weight(name='W_a',\n",
    "                                   shape=tf.TensorShape((input_shape[0][2], input_shape[0][2])),\n",
    "                                   initializer='uniform',\n",
    "                                   trainable=True)\n",
    "        self.U_a = self.add_weight(name='U_a',\n",
    "                                   shape=tf.TensorShape((input_shape[1][2], input_shape[0][2])),\n",
    "                                   initializer='uniform',\n",
    "                                   trainable=True)\n",
    "        self.V_a = self.add_weight(name='V_a',\n",
    "                                   shape=tf.TensorShape((input_shape[0][2], 1)),\n",
    "                                   initializer='uniform',\n",
    "                                   trainable=True)\n",
    "\n",
    "        super(AttentionLayer, self).build(input_shape)\n",
    "\n",
    "    def call(self, inputs):\n",
    "        encoder_out_seq, decoder_out_seq = inputs\n",
    "\n",
    "        def energy_step(inputs, states):\n",
    "          \n",
    "            en_seq_len, en_hidden = encoder_out_seq.shape[1], encoder_out_seq.shape[2]\n",
    "            de_hidden = inputs.shape[-1]\n",
    "\n",
    "            reshaped_enc_outputs = K.reshape(encoder_out_seq, (-1, en_hidden))\n",
    "            W_a_dot_s = K.reshape(K.dot(reshaped_enc_outputs, self.W_a), (-1, en_seq_len, en_hidden))\n",
    "            U_a_dot_h = K.expand_dims(K.dot(inputs, self.U_a), 1)  \n",
    "            \n",
    "            reshaped_Ws_plus_Uh = K.tanh(K.reshape(W_a_dot_s + U_a_dot_h, (-1, en_hidden)))\n",
    "            e_i = K.reshape(K.dot(reshaped_Ws_plus_Uh, self.V_a), (-1, en_seq_len))\n",
    "            e_i = K.softmax(e_i)\n",
    "\n",
    "            return e_i, [e_i]\n",
    "\n",
    "        def context_step(inputs, states):\n",
    "            c_i = K.sum(encoder_out_seq * K.expand_dims(inputs, -1), axis=1)\n",
    "            return c_i, [c_i]\n",
    "\n",
    "        def create_inital_state(inputs, hidden_size):\n",
    "            \n",
    "            fake_state = K.zeros_like(inputs)  \n",
    "            fake_state = K.sum(fake_state, axis=[1, 2])  \n",
    "            fake_state = K.expand_dims(fake_state)  \n",
    "            fake_state = K.tile(fake_state, [1, hidden_size])  \n",
    "            return fake_state\n",
    "\n",
    "        fake_state_c = create_inital_state(encoder_out_seq, encoder_out_seq.shape[-1])\n",
    "        fake_state_e = create_inital_state(encoder_out_seq, encoder_out_seq.shape[1])  \n",
    "\n",
    "        last_out, e_outputs, _ = K.rnn(\n",
    "            energy_step, decoder_out_seq, [fake_state_e],\n",
    "        )\n",
    "\n",
    "        last_out, c_outputs, _ = K.rnn(\n",
    "            context_step, e_outputs, [fake_state_c],\n",
    "        )\n",
    "        return c_outputs, e_outputs\n",
    "\n",
    "    def compute_output_shape(self, input_shape):\n",
    "        return [\n",
    "            tf.TensorShape((input_shape[1][0], input_shape[1][1], input_shape[1][2])),\n",
    "            tf.TensorShape((input_shape[1][0], input_shape[1][1], input_shape[0][1]))\n",
    "        ]\n"
   ]
  },
  {
   "cell_type": "code",
   "execution_count": 25,
   "id": "20b286ed",
   "metadata": {
    "execution": {
     "iopub.execute_input": "2021-08-29T04:58:41.313223Z",
     "iopub.status.busy": "2021-08-29T04:58:41.312706Z",
     "iopub.status.idle": "2021-08-29T04:58:47.442110Z",
     "shell.execute_reply": "2021-08-29T04:58:47.441380Z",
     "shell.execute_reply.started": "2021-08-21T22:51:21.119061Z"
    },
    "id": "wTukjl0hpPgo",
    "outputId": "6035a9eb-baac-43ff-a123-74e1ae1f02b7",
    "papermill": {
     "duration": 6.177416,
     "end_time": "2021-08-29T04:58:47.442239",
     "exception": false,
     "start_time": "2021-08-29T04:58:41.264823",
     "status": "completed"
    },
    "tags": []
   },
   "outputs": [
    {
     "name": "stdout",
     "output_type": "stream",
     "text": [
      "Model: \"model\"\n",
      "__________________________________________________________________________________________________\n",
      "Layer (type)                    Output Shape         Param #     Connected to                     \n",
      "==================================================================================================\n",
      "input_1 (InputLayer)            [(None, 250)]        0                                            \n",
      "__________________________________________________________________________________________________\n",
      "embedding (Embedding)           (None, 250, 300)     56277300    input_1[0][0]                    \n",
      "__________________________________________________________________________________________________\n",
      "lstm (LSTM)                     [(None, 250, 500), ( 1602000     embedding[0][0]                  \n",
      "__________________________________________________________________________________________________\n",
      "input_2 (InputLayer)            [(None, None)]       0                                            \n",
      "__________________________________________________________________________________________________\n",
      "lstm_1 (LSTM)                   [(None, 250, 500), ( 2002000     lstm[0][0]                       \n",
      "__________________________________________________________________________________________________\n",
      "embedding_1 (Embedding)         (None, None, 300)    56277300    input_2[0][0]                    \n",
      "__________________________________________________________________________________________________\n",
      "lstm_2 (LSTM)                   [(None, 250, 500), ( 2002000     lstm_1[0][0]                     \n",
      "__________________________________________________________________________________________________\n",
      "lstm_3 (LSTM)                   [(None, None, 500),  1602000     embedding_1[0][0]                \n",
      "                                                                 lstm_2[0][1]                     \n",
      "                                                                 lstm_2[0][2]                     \n",
      "__________________________________________________________________________________________________\n",
      "attention_layer (AttentionLayer ((None, None, 500),  500500      lstm_2[0][0]                     \n",
      "                                                                 lstm_3[0][0]                     \n",
      "__________________________________________________________________________________________________\n",
      "concat_layer (Concatenate)      (None, None, 1000)   0           lstm_3[0][0]                     \n",
      "                                                                 attention_layer[0][0]            \n",
      "__________________________________________________________________________________________________\n",
      "time_distributed (TimeDistribut (None, None, 91362)  91453362    concat_layer[0][0]               \n",
      "==================================================================================================\n",
      "Total params: 211,716,462\n",
      "Trainable params: 99,161,862\n",
      "Non-trainable params: 112,554,600\n",
      "__________________________________________________________________________________________________\n",
      "None\n"
     ]
    }
   ],
   "source": [
    "latent_dim=500\n",
    "\n",
    "K.clear_session() \n",
    "\n",
    "encoder_inputs = Input(shape=(max_length_x,)) \n",
    "enc_emb = Embedding(x_vocab_size, glove_size, weights=[embedding_matrix],input_length=max_length_x, trainable=False)(encoder_inputs) \n",
    "\n",
    "#LSTM \n",
    "encoder_lstm1 = LSTM(latent_dim, return_sequences=True, return_state=True, dropout=0.2) \n",
    "encoder_output1, state_h1, state_c1 = encoder_lstm1(enc_emb) \n",
    "encoder_lstm2 = LSTM(latent_dim, return_sequences=True, return_state=True, dropout=0.4) \n",
    "encoder_output2, state_h2, state_c2 = encoder_lstm2(encoder_output1) \n",
    "encoder_lstm3 = LSTM(latent_dim, return_state=True, return_sequences=True, dropout=0.4) \n",
    "encoder_outputs, state_h, state_c= encoder_lstm3(encoder_output2) \n",
    "\n",
    "# Decoder. \n",
    "decoder_inputs = Input(shape=(None,)) \n",
    "dec_emb_layer = Embedding(x_vocab_size, glove_size, weights=[embedding_matrix],input_length=max_length_x, trainable=False) \n",
    "dec_emb = dec_emb_layer(decoder_inputs) \n",
    "\n",
    "#LSTM using encoder_states as initial state\n",
    "decoder_lstm = LSTM(latent_dim, return_sequences=True, return_state=True, dropout=0.4) \n",
    "decoder_outputs,decoder_fwd_state, decoder_back_state = decoder_lstm(dec_emb,initial_state=[state_h, state_c]) \n",
    "\n",
    "#Attention Layer\n",
    "attn_layer = AttentionLayer(name='attention_layer') \n",
    "attn_out, attn_states = attn_layer([encoder_outputs, decoder_outputs]) \n",
    "\n",
    "decoder_concat_input = Concatenate(axis=-1, name='concat_layer')([decoder_outputs, attn_out])\n",
    "decoder_dense = TimeDistributed(Dense(y_vocab_size, activation='softmax')) \n",
    "decoder_outputs = decoder_dense(decoder_concat_input) \n",
    "\n",
    "model = Model([encoder_inputs, decoder_inputs], decoder_outputs) \n",
    "print(model.summary())"
   ]
  },
  {
   "cell_type": "code",
   "execution_count": 26,
   "id": "e1439872",
   "metadata": {
    "execution": {
     "iopub.execute_input": "2021-08-29T04:58:47.535465Z",
     "iopub.status.busy": "2021-08-29T04:58:47.534666Z",
     "iopub.status.idle": "2021-08-29T06:26:44.230755Z",
     "shell.execute_reply": "2021-08-29T06:26:44.230060Z",
     "shell.execute_reply.started": "2021-08-21T22:51:22.540572Z"
    },
    "id": "4fUJoaFAiwUb",
    "outputId": "4bc22143-d3ed-4b87-e2e6-c44f3034a816",
    "papermill": {
     "duration": 5276.74813,
     "end_time": "2021-08-29T06:26:44.230947",
     "exception": false,
     "start_time": "2021-08-29T04:58:47.482817",
     "status": "completed"
    },
    "tags": []
   },
   "outputs": [
    {
     "name": "stdout",
     "output_type": "stream",
     "text": [
      "Epoch 1/30\n",
      "1246/1246 [==============================] - 1061s 842ms/step - loss: 5.4946 - val_loss: 4.7224\n",
      "Epoch 2/30\n",
      "1246/1246 [==============================] - 1050s 843ms/step - loss: 4.5734 - val_loss: 4.4202\n",
      "Epoch 3/30\n",
      "1246/1246 [==============================] - 1050s 843ms/step - loss: 4.1144 - val_loss: 4.3084\n",
      "Epoch 4/30\n",
      "1246/1246 [==============================] - 1052s 844ms/step - loss: 3.7613 - val_loss: 4.2894\n",
      "Epoch 5/30\n",
      "1246/1246 [==============================] - 1050s 842ms/step - loss: 3.4822 - val_loss: 4.3015\n",
      "Epoch 00005: early stopping\n"
     ]
    }
   ],
   "source": [
    "model.compile(optimizer='adam', loss='sparse_categorical_crossentropy')\n",
    "checkpoint_filepath = './model.{epoch:02d}-{val_loss:.2f}.h5'\n",
    "model_checkpoint_callback = tf.keras.callbacks.ModelCheckpoint(filepath=checkpoint_filepath, save_weights_only=True, monitor='val_loss',mode='min',save_best_only=True, save_freq = \"epoch\")\n",
    "es = EarlyStopping(monitor='val_loss', mode='min', verbose=1, patience=1)\n",
    "history=model.fit([padded_xtrain,padded_ytrain[:,:-1]], padded_ytrain.reshape(padded_ytrain.shape[0],padded_ytrain.shape[1], 1)[:,1:] ,epochs=30,batch_size=64, validation_data=([padded_xval,padded_yval[:,:-1]], padded_yval.reshape(padded_yval.shape[0],padded_yval.shape[1], 1)[:,1:]), callbacks=[es, model_checkpoint_callback], verbose=1)"
   ]
  },
  {
   "cell_type": "code",
   "execution_count": 27,
   "id": "d15b5ea6",
   "metadata": {
    "execution": {
     "iopub.execute_input": "2021-08-29T06:26:47.480089Z",
     "iopub.status.busy": "2021-08-29T06:26:47.479212Z",
     "iopub.status.idle": "2021-08-29T06:26:47.481354Z",
     "shell.execute_reply": "2021-08-29T06:26:47.481712Z",
     "shell.execute_reply.started": "2021-08-21T23:19:58.677996Z"
    },
    "papermill": {
     "duration": 1.628566,
     "end_time": "2021-08-29T06:26:47.481859",
     "exception": false,
     "start_time": "2021-08-29T06:26:45.853293",
     "status": "completed"
    },
    "tags": []
   },
   "outputs": [],
   "source": [
    "# min_val_loss = min(history.history['val_loss'])\n",
    "# min_epoch = history.history['val_loss'].index(min_val_loss)\n",
    "# model = Model([encoder_inputs, decoder_inputs], decoder_outputs)\n",
    "# model.load_weights(f'./model.{min_epoch+1:02d}-{min_val_loss:.2f}.h5')\n",
    "# model.compile(optimizer='adam', loss='sparse_categorical_crossentropy')"
   ]
  },
  {
   "cell_type": "code",
   "execution_count": 28,
   "id": "a644b158",
   "metadata": {
    "execution": {
     "iopub.execute_input": "2021-08-29T06:26:50.717560Z",
     "iopub.status.busy": "2021-08-29T06:26:50.716693Z",
     "iopub.status.idle": "2021-08-29T06:26:50.855767Z",
     "shell.execute_reply": "2021-08-29T06:26:50.855334Z",
     "shell.execute_reply.started": "2021-08-21T23:20:12.112875Z"
    },
    "id": "JQf1v5WhqLLg",
    "outputId": "f5bfa510-79c7-465e-e371-ea5b36198da9",
    "papermill": {
     "duration": 1.762135,
     "end_time": "2021-08-29T06:26:50.855890",
     "exception": false,
     "start_time": "2021-08-29T06:26:49.093755",
     "status": "completed"
    },
    "tags": []
   },
   "outputs": [
    {
     "data": {
      "image/png": "[encoded data removed]",
      "text/plain": [
       "<Figure size 432x288 with 1 Axes>"
      ]
     },
     "metadata": {
      "needs_background": "light"
     },
     "output_type": "display_data"
    }
   ],
   "source": [
    "from matplotlib import pyplot \n",
    "pyplot.plot(history.history['loss'], label='train') \n",
    "pyplot.plot(history.history['val_loss'], label='val') \n",
    "pyplot.legend() \n",
    "pyplot.show()"
   ]
  },
  {
   "cell_type": "markdown",
   "id": "9a0b6bf6",
   "metadata": {
    "id": "PZ0W3VZorHVK",
    "papermill": {
     "duration": 1.926236,
     "end_time": "2021-08-29T06:26:54.403208",
     "exception": false,
     "start_time": "2021-08-29T06:26:52.476972",
     "status": "completed"
    },
    "tags": []
   },
   "source": [
    "### Inference"
   ]
  },
  {
   "cell_type": "code",
   "execution_count": 29,
   "id": "7cbe6b0e",
   "metadata": {
    "execution": {
     "iopub.execute_input": "2021-08-29T06:26:57.736364Z",
     "iopub.status.busy": "2021-08-29T06:26:57.735601Z",
     "iopub.status.idle": "2021-08-29T06:26:57.738441Z",
     "shell.execute_reply": "2021-08-29T06:26:57.737993Z",
     "shell.execute_reply.started": "2021-08-21T23:20:23.112522Z"
    },
    "id": "UlSTzEbnskcd",
    "papermill": {
     "duration": 1.665175,
     "end_time": "2021-08-29T06:26:57.738637",
     "exception": false,
     "start_time": "2021-08-29T06:26:56.073462",
     "status": "completed"
    },
    "tags": []
   },
   "outputs": [],
   "source": [
    "reverse_target_word_index = y_t.index_word \n",
    "reverse_source_word_index = x_t.index_word \n",
    "target_word_index = y_t.word_index"
   ]
  },
  {
   "cell_type": "code",
   "execution_count": 30,
   "id": "e677f124",
   "metadata": {
    "execution": {
     "iopub.execute_input": "2021-08-29T06:27:01.061351Z",
     "iopub.status.busy": "2021-08-29T06:27:01.060492Z",
     "iopub.status.idle": "2021-08-29T06:27:02.052515Z",
     "shell.execute_reply": "2021-08-29T06:27:02.052016Z",
     "shell.execute_reply.started": "2021-08-21T23:20:23.392732Z"
    },
    "id": "thX0Ep0Ssnd1",
    "papermill": {
     "duration": 2.619339,
     "end_time": "2021-08-29T06:27:02.052697",
     "exception": false,
     "start_time": "2021-08-29T06:26:59.433358",
     "status": "completed"
    },
    "tags": []
   },
   "outputs": [],
   "source": [
    "encoder_model = Model(inputs=encoder_inputs,outputs=[encoder_outputs, state_h, state_c])\n",
    "decoder_state_input_h = Input(shape=(latent_dim,))\n",
    "decoder_state_input_c = Input(shape=(latent_dim,))\n",
    "decoder_hidden_state_input = Input(shape=(max_length_x,latent_dim))\n",
    "\n",
    "dec_emb2= dec_emb_layer(decoder_inputs)\n",
    "decoder_outputs2, state_h2, state_c2 = decoder_lstm(dec_emb2, initial_state=[decoder_state_input_h, decoder_state_input_c])\n",
    "\n",
    "attn_out_inf, attn_states_inf = attn_layer([decoder_hidden_state_input, decoder_outputs2])\n",
    "decoder_inf_concat = Concatenate(axis=-1, name='concat')([decoder_outputs2, attn_out_inf])\n",
    "\n",
    "decoder_outputs2 = decoder_dense(decoder_inf_concat)\n",
    "\n",
    "decoder_model = Model(\n",
    "[decoder_inputs] + [decoder_hidden_state_input,decoder_state_input_h, decoder_state_input_c],\n",
    "[decoder_outputs2] + [state_h2, state_c2])"
   ]
  },
  {
   "cell_type": "code",
   "execution_count": 31,
   "id": "e1a078e1",
   "metadata": {
    "execution": {
     "iopub.execute_input": "2021-08-29T06:27:05.523973Z",
     "iopub.status.busy": "2021-08-29T06:27:05.523218Z",
     "iopub.status.idle": "2021-08-29T06:27:05.533764Z",
     "shell.execute_reply": "2021-08-29T06:27:05.533367Z",
     "shell.execute_reply.started": "2021-08-21T23:20:23.697985Z"
    },
    "id": "wtU0wU8gsuz1",
    "papermill": {
     "duration": 1.867516,
     "end_time": "2021-08-29T06:27:05.533880",
     "exception": false,
     "start_time": "2021-08-29T06:27:03.666364",
     "status": "completed"
    },
    "tags": []
   },
   "outputs": [],
   "source": [
    "def decode_sequence(input_seq):\n",
    "    input_seq= input_seq.reshape(1,max_length_x)\n",
    "    e_out, e_h, e_c = encoder_model.predict(input_seq)\n",
    "    target_seq = np.zeros((1,1))\n",
    "    target_seq[0, 0] = target_word_index['start']\n",
    "\n",
    "    stop_condition = False\n",
    "    decoded_sentence = ''\n",
    "    while not stop_condition:\n",
    "        output_tokens, h, c = decoder_model.predict([target_seq] + [e_out, e_h, e_c])\n",
    "\n",
    "        sampled_token_index = np.argmax(output_tokens[0, -1, :])\n",
    "        sampled_token = reverse_target_word_index[sampled_token_index]\n",
    "  \n",
    "        if(sampled_token!='end'):\n",
    "            decoded_sentence += ' '+sampled_token\n",
    " \n",
    "        if (sampled_token == 'end' or len(decoded_sentence.split()) >= (max_length_y-1)):\n",
    "                stop_condition = True\n",
    "\n",
    "        target_seq = np.zeros((1,1))\n",
    "        target_seq[0, 0] = sampled_token_index\n",
    "        e_h, e_c = h, c\n",
    "\n",
    "    return decoded_sentence"
   ]
  },
  {
   "cell_type": "code",
   "execution_count": 32,
   "id": "a1435788",
   "metadata": {
    "execution": {
     "iopub.execute_input": "2021-08-29T06:27:08.871866Z",
     "iopub.status.busy": "2021-08-29T06:27:08.871321Z",
     "iopub.status.idle": "2021-08-29T06:27:08.875226Z",
     "shell.execute_reply": "2021-08-29T06:27:08.874806Z",
     "shell.execute_reply.started": "2021-08-21T23:20:24.022188Z"
    },
    "id": "cLyRVENRs2Ay",
    "papermill": {
     "duration": 1.713479,
     "end_time": "2021-08-29T06:27:08.875351",
     "exception": false,
     "start_time": "2021-08-29T06:27:07.161872",
     "status": "completed"
    },
    "tags": []
   },
   "outputs": [],
   "source": [
    "def seq2summary(input_seq):\n",
    "    newString=''\n",
    "    for i in input_seq:\n",
    "        if((i!=0 and i!=target_word_index['start']) and i!=target_word_index['end']):\n",
    "            newString=newString+reverse_target_word_index[i]+' '\n",
    "    return newString\n",
    "\n",
    "def seq2text(input_seq):\n",
    "    newString=''\n",
    "    for i in input_seq:\n",
    "        if(i!=0):\n",
    "            newString=newString+reverse_source_word_index[i]+' '\n",
    "    return newString"
   ]
  },
  {
   "cell_type": "code",
   "execution_count": 33,
   "id": "4916d329",
   "metadata": {
    "execution": {
     "iopub.execute_input": "2021-08-29T06:27:12.102203Z",
     "iopub.status.busy": "2021-08-29T06:27:12.101461Z",
     "iopub.status.idle": "2021-08-29T06:27:24.686684Z",
     "shell.execute_reply": "2021-08-29T06:27:24.686260Z",
     "shell.execute_reply.started": "2021-08-21T23:20:24.317964Z"
    },
    "id": "bXrWSc9Es5Qr",
    "outputId": "08e094bf-5b7a-4d2d-9042-f01c9390c8df",
    "papermill": {
     "duration": 14.208205,
     "end_time": "2021-08-29T06:27:24.686811",
     "exception": false,
     "start_time": "2021-08-29T06:27:10.478606",
     "status": "completed"
    },
    "tags": []
   },
   "outputs": [
    {
     "name": "stdout",
     "output_type": "stream",
     "text": [
      "Review: week losing bubba watson playoff yous masters louis oosthuizen bounced back three shot victory malaysian open sunday oosthuizen 30 hour journey kuala lumpur near miss augusta closed four under par 68 hold challenge scotland stephen gallacher 17 under total 271 gave fifth european tour win oosthuizen acted perfect tonic masters heartbreak it long journey get honest say expect play well tiredness told official european tour website having good week week important playing well want come play bad win means lot playing well last weeks win gives lot confidence rest season oosthuizen play 26 holes final day earlier delays held one shot lead gallacher going last 18 holes gallacher looking second european tour win touch back nine south african opponent birdied 13th 16th pull clear last year masters champion charl schwartzel south african sixth six shots back defending champion matteo manassero former world number one martin kaymer tied seventh 25 million tournament co sanctioned european asian tours oosthuizen carded stunning double eagle final round first major season lost watson american superb recovery shot second extra hole moved second european tour race dubai recent fine displays \n",
      "Original summary: louis oosthuizen wins malaysian open three shots south african finished runner up yous masters playoff final round 68 secures fifth european tour win oosthuizen 30 hour journey kuala lumpur \n",
      "Predicted summary:  tiger woods slumps wins alfred dunhill open championship round tour championship lead valero bhullar second round tour championship lead two strokes tour title torrey pines\n",
      "\n",
      "\n",
      "Review: natalie cole heard beyonce imitating do know much think sing besides collaborations neville may diving yet another genre soon i never really done blues album sing blues said good thing band every genre music my true story set released january 22 \n",
      "Original summary: aaron neville release doo wop cover album keith richards emi music president produced album neville would like work stevie wonder smokey robinson future \n",
      "Predicted summary:  songs year old mtv album epiphany album songs album songs donda songs album song songs album song songs song songs\n",
      "\n",
      "\n",
      "Review: daily mail reporter published 14 22 est 24 september 2013 updated 14 27 est 24 september 2013 man found dead parking lot grand valley state university michigan hours used computer campus research symptoms heart attack body phu quoc thieu tran 39 found car security guard devos parking lot monday morning autopsy performed later day determined tran s death determined arteriosclerotic cardiovascular disease body phu quoc thieu tran 39 found car security guard devos parking lot monday morning it appears using university s computer lab researching health issues lt patrick merrill told wwj tran student grand rapids community college gvsu computer lab sunday night police checked computer used discovered researching symptoms common heart attack tightness chest sweating webmdcom website said appears got back car living reclined front seat covered blanket reports woodtvcom maybe thought would lay minute feel little better unfortunately passed away merrill said tran student grand rapids community college gvsu computer lab sunday night research symptoms tran used webmdcom website researching symptoms common heart attack pain tightness chest sweating \n",
      "Original summary: body phu quoc thieu tran found car parked gvsu monday morning sunday night used campus computer search symptoms including tightness chest sweating autopsy determined died cardiovascular disease \n",
      "Predicted summary:  accident happened found dead san francisco california highway patrol chula vista fd condition hospital pucallpa university hospital grenoble accident\n",
      "\n",
      "\n",
      "Review: canada officially renounced expiring kyoto protocol monday day international negotiators agreed extend treaty limits carbon emissions blamed warming climate environment minister peter kent said ottawa would keep working reduce greenhouse gas emissions help negotiate new framework global pact statement reporters return last week climate conference south africa kent said canada kyoto is past prime minister stephen harper conservative government long opposed kyoto protocol refused implement since taking office 2006 ahead decision opposition new democratic party accused government standing big polluters expense ordinary canadians risking country reputation abandoning 1997 treaty kent said kyoto goals unworkable united states china world two largest sources carbon emissions never agreed kyoto new pact needed address emissions rapidly growing economies including china brazil india special road durban government announced 2010 would fall well short treaty target 6 cut emissions 1990 levels 2012 kent said previous government signed onto treaty without regard would fulfilled canadians faced radical cuts financial penalties equivalent 1 600 per family result said canada well way reducing emissions 17 2005 levels 2020 critics say self imposed goal well kyoto targets nations durban talks agreed extend kyoto efforts weekend launched effort set broader pact legal format curb carbon emissions talks also launched green climate fund would essentially channel 100 billion 2020 vulnerable countries help deal effects climate change \n",
      "Original summary: environment minister says canada still work reduce greenhouse emissions says previous government agreed kyoto kyoto goals unworkable without united states china says \n",
      "Predicted summary:  new prime minister shinzo abe abe abe new zealand nuclear power economic crisis says new deal would allow nuclear power new prime minister shinzo abe abe\n",
      "\n",
      "\n",
      "Review: daily mail reporter published 10 37 est 8 january 2014 updated 12 48 est 8 january 2014 sick baby rushed hospital supermarket pharmacy refused hand medication father part prescription written welsh aled mann 34 took prescription family doctors local morrisons pharmacy counter one year old son harley developed chest infection staff supermarket bangor north wales refused give steroid tablets could read note english staff supermarket pharmacy bangor north wales refused give father medication baby part prescription near bangor north wales \n",
      "Original summary: aled mann took prescription family doctors morrisons pharmacy one year old son harvey suffering chest infection staff pharmacy refused give medication part prescription welsh could read mr mann return gp wait another prescription printed baby harvey condition worsened taken hospital next day \n",
      "Predicted summary:  mother of two children hospital bridgend hospital bridgend operation nhs care hospital bridgend carer infection septicaemia hospital bridgend nhs care hospital bridgend\n",
      "\n",
      "\n",
      "Review: becky evans published 13 02 est 4 april 2013 updated 01 52 est 5 april 2013 man shot dead today police drugs raid west yorkshire police said truggle ensued unarmed police went property buckingham crescent bradford 49 year old man shot died scene officers injured 49 year old man died gun discharged truggle police drugs raid unarmed local neighbourhood policing team officers warrant entered house 1pm believed confronted man top stairs hands behind back asked show hands refused officers tried restrain him thought holding weapon went restrained details released gun police officer stands guard outside house man died truggle unarmed officers west yorkshire police spokesman said on entering property struggle ensued one occupants firearm discharged the occupant 49 year old man received fatal injuries died scene independents police complaints commission informed visiting scene ipcc spokeswoman said following referral west yorkshire police incident bradford 4 april ipcc deployed investigator scene a thorough assessment level ipcc involvement required way \n",
      "Original summary: 49 year old died scene raid buckingham crescent bradford west yorkshire police said weapon discharged truggle officers unarmed officers entered house drugs warrant \n",
      "Predicted summary:  police officers man shot chest man officers officers scene man pronounced dead scene man pronounced dead scene man pronounced dead scene man\n",
      "\n",
      "\n",
      "Review: and hopefully lead us sandra killers sheneman said asked use plural meant police looking one person sheneman responded we specific suspects watch sheneman say arrest case sheneman also implied killer likely familiar location body found said unfamiliar location girl body found despite lived community nearly 12 years someone would familiar area know go there said watch suitcase found sheneman said police one custody despite interviewed hundreds people regarding case everyone speak right considered person interest said we eliminating anyone autopsy conducted tuesday clear report would available it going time hear coroner sheneman said i cannot tell going be 10 search warrants executed part investigation a lot evidence recovered sheneman said day cantu last reported seen returned home school kissed mother left play friend lives nearby short time later wearing pink hello kitty t shirt black leggings left go another friend home according family spokeswoman police said monday girl clothing helped identify body \n",
      "Original summary: new police search church near mobile park home sandra cantu lived police would say evidence led search church cantu found suitcase pond near california home cantu missing since march 27 \n",
      "Predicted summary:  new police say suspect suspect identified suspect disappearance new york police say new suspect suspect identified suspect custody suspect disappearance police say suspect suspect disappearance suspect suspect disappearance suspect suspect suspect suspect disappearance\n",
      "\n",
      "\n",
      "Review: finland become final nordic country legalise same sex marriage equal rights bill passed parliament today victory cheers erupted central helsinki thousands human rights activists gathered outside parliament ahead vote gay couples finland able enter registered partnerships since 2002 rights heterosexual married couples able adopt children share surname yeys gays supporters same sex marriage celebrate outside finnish parliament helsinki finnish parliament approved bill giving equal rights gay straight couples laws governing marriage completely gender neutral scandinavian nation population 54 million supporters bill hugged speaker eero hein luoma closed session mps cried leaving floor house finland strive become society discrimination exist human rights respected two adults marry regardless sexual orientation centre right prime minister alexander stubb said open letter vote finland becomes 12th european state allow gay marriage last nordic region so important move finland taking stand increasingly anti gay neighbour russia joining forces rest scandinavia united joy prime minister alexander stubb right hugs finland first openly gay mp jani toivola vote same sex marriages saw bill passed 105 92 votes female same sex marriage supporter cheers outside finnish parliament vote keeping joneses finland last nordic country allow same sex marriage opponents argued children right father mother this question future children whole society changes made without thorough evaluation impact mika niikko nationalist sannfinlandarna said vote vote 105 members parliament supported legal amendment 92 opposed it vote came petition signed 167 000 finnish people handed parliament december last year equal rights supporter waves teletubby doll crowds celebrate winning vote \n",
      "Original summary: finnish parliament voted legalize same sex marriages today finland nordic country allow gay couples able register partnerships since 2002 \n",
      "Predicted summary:  same sex marriage equality same sex marriage equality gay marriage equality gay marriage equality gay marriage equality gay marriage equality gay marriage equality gay marriage equality gay marriage equality\n",
      "\n",
      "\n",
      "Review: search team looking man missing lower blue mountains found body andrew coogan 35 mount riverview seen heard since tuesday while body yet formally identified believed missing man police said saturday search team looking man missing lower blue mountains found body andrew coogan 35 mount riverview seen heard since tuesday remains found bushland mount riverview 3pm autopsy conducted police believe suspicious circumstances officers blue mountains local area command searching bushland since mr coogan reported missing family said disappearance character believed without medication remains found bushland mount riverview 3pm police previously released photo andrew cooogan hairstyle hope finding \n",
      "Original summary: body found blue mountains police believe body missing man andrew coogan andrew seen heard since tuesday remains found bushland mount riverview 3pm andrew disappearance believed character \n",
      "Predicted summary:  man found dead body discovered near thorney park near home police say man found dead body found body found near river river man found body found near river near thorney park\n",
      "\n",
      "\n",
      "Review: amid crowning new world champion another dazzling performance amir khan las vegas strip witnessed yet farcical scoring saturday night end year blighted bad decisions ringside judges cosmopolitan hotel guilty yet glaring errors ireland s andy lee glad spared fate stopped matt korobov win wbo middleweight crown timothy bradley \n",
      "Original summary: mauricio herrera timothy bradley left stunned scores read bradley looked returned winning ways diego chaves three ringside judges saw fight differently draw bradley s promoter bob arum livid judgement herrera looked done enough edge jose benavidez herrera however also denied judges \n",
      "Predicted summary:  floyd mayweather manny pacquiao wbo welterweight title las vegas lawler saunders welterweight champion eubank jnr world champion amir khan fight\n",
      "\n",
      "\n"
     ]
    }
   ],
   "source": [
    "for i in range(10):\n",
    "    print(\"Review:\",seq2text(padded_xtest[i]))\n",
    "    print(\"Original summary:\",seq2summary(padded_ytest[i]))\n",
    "    print(\"Predicted summary:\",decode_sequence(padded_xtest[i]))\n",
    "    print(\"\\n\")"
   ]
  },
  {
   "cell_type": "markdown",
   "id": "7b4a9ed9",
   "metadata": {
    "id": "v3Sfc9a422Rg",
    "papermill": {
     "duration": 1.620845,
     "end_time": "2021-08-29T06:27:28.131919",
     "exception": false,
     "start_time": "2021-08-29T06:27:26.511074",
     "status": "completed"
    },
    "tags": []
   },
   "source": [
    "### Evaluation"
   ]
  },
  {
   "cell_type": "code",
   "execution_count": 34,
   "id": "1b67558a",
   "metadata": {
    "execution": {
     "iopub.execute_input": "2021-08-29T06:27:31.401750Z",
     "iopub.status.busy": "2021-08-29T06:27:31.400906Z",
     "iopub.status.idle": "2021-08-29T06:27:31.403628Z",
     "shell.execute_reply": "2021-08-29T06:27:31.403213Z",
     "shell.execute_reply.started": "2021-08-21T11:15:49.013252Z"
    },
    "papermill": {
     "duration": 1.620025,
     "end_time": "2021-08-29T06:27:31.403736",
     "exception": false,
     "start_time": "2021-08-29T06:27:29.783711",
     "status": "completed"
    },
    "tags": []
   },
   "outputs": [],
   "source": [
    "def BLEU_Score(y_test, y_pred):\n",
    "    references = [[seq2summary(y_test).split(\" \")]]\n",
    "    candidates = [decode_sequence(y_pred.reshape(1,max_length_x)).split(\" \")]\n",
    "    return corpus_bleu(references, candidates)"
   ]
  },
  {
   "cell_type": "code",
   "execution_count": 35,
   "id": "55fb9947",
   "metadata": {
    "execution": {
     "iopub.execute_input": "2021-08-29T06:27:34.631726Z",
     "iopub.status.busy": "2021-08-29T06:27:34.630878Z",
     "iopub.status.idle": "2021-08-29T08:27:28.778367Z",
     "shell.execute_reply": "2021-08-29T08:27:28.779098Z",
     "shell.execute_reply.started": "2021-08-21T11:16:56.73828Z"
    },
    "papermill": {
     "duration": 7195.764228,
     "end_time": "2021-08-29T08:27:28.779331",
     "exception": false,
     "start_time": "2021-08-29T06:27:33.015103",
     "status": "completed"
    },
    "tags": []
   },
   "outputs": [
    {
     "name": "stderr",
     "output_type": "stream",
     "text": [
      "/opt/conda/lib/python3.7/site-packages/nltk/translate/bleu_score.py:490: UserWarning: \n",
      "Corpus/Sentence contains 0 counts of 2-gram overlaps.\n",
      "BLEU scores might be undesirable; use SmoothingFunction().\n",
      "  warnings.warn(_msg)\n",
      "/opt/conda/lib/python3.7/site-packages/nltk/translate/bleu_score.py:490: UserWarning: \n",
      "Corpus/Sentence contains 0 counts of 3-gram overlaps.\n",
      "BLEU scores might be undesirable; use SmoothingFunction().\n",
      "  warnings.warn(_msg)\n",
      "/opt/conda/lib/python3.7/site-packages/nltk/translate/bleu_score.py:490: UserWarning: \n",
      "Corpus/Sentence contains 0 counts of 4-gram overlaps.\n",
      "BLEU scores might be undesirable; use SmoothingFunction().\n",
      "  warnings.warn(_msg)\n"
     ]
    },
    {
     "name": "stdout",
     "output_type": "stream",
     "text": [
      "0.38486198634448787\n"
     ]
    }
   ],
   "source": [
    "from nltk.translate.bleu_score import corpus_bleu\n",
    "scores=[]\n",
    "for i in range(len(padded_ytest)):\n",
    "    try:\n",
    "        score = BLEU_Score(padded_ytest[i],padded_xtest[i])\n",
    "        scores.append(score)\n",
    "    except:\n",
    "        pass\n",
    "print(np.mean(scores))"
   ]
  },
  {
   "cell_type": "code",
   "execution_count": 38,
   "id": "7fc80f7e",
   "metadata": {
    "execution": {
     "iopub.execute_input": "2021-08-29T10:27:19.801743Z",
     "iopub.status.busy": "2021-08-29T10:27:19.800907Z",
     "iopub.status.idle": "2021-08-29T10:27:37.293175Z",
     "shell.execute_reply": "2021-08-29T10:27:37.293664Z",
     "shell.execute_reply.started": "2021-08-21T11:17:30.152409Z"
    },
    "id": "Z516n1wQSgn1",
    "outputId": "83eac699-47fc-4854-a02e-b39ed8af9f50",
    "papermill": {
     "duration": 19.223113,
     "end_time": "2021-08-29T10:27:37.293821",
     "exception": false,
     "start_time": "2021-08-29T10:27:18.070708",
     "status": "completed"
    },
    "tags": []
   },
   "outputs": [
    {
     "name": "stdout",
     "output_type": "stream",
     "text": [
      "module https://tfhub.dev/google/universal-sentence-encoder/4 loaded\n"
     ]
    }
   ],
   "source": [
    "import tensorflow_hub as hub\n",
    "from scipy import spatial\n",
    "module_url = \"https://tfhub.dev/google/universal-sentence-encoder/4\" \n",
    "sentence_encoder = hub.load(module_url)\n",
    "print (\"module %s loaded\" % module_url)"
   ]
  },
  {
   "cell_type": "code",
   "execution_count": 39,
   "id": "f33cc2f2",
   "metadata": {
    "execution": {
     "iopub.execute_input": "2021-08-29T10:27:40.613302Z",
     "iopub.status.busy": "2021-08-29T10:27:40.612614Z",
     "iopub.status.idle": "2021-08-29T10:27:40.616208Z",
     "shell.execute_reply": "2021-08-29T10:27:40.615763Z",
     "shell.execute_reply.started": "2021-08-21T11:17:48.494782Z"
    },
    "id": "phm5tVv6yCZ9",
    "papermill": {
     "duration": 1.710074,
     "end_time": "2021-08-29T10:27:40.616329",
     "exception": false,
     "start_time": "2021-08-29T10:27:38.906255",
     "status": "completed"
    },
    "tags": []
   },
   "outputs": [],
   "source": [
    "def cosine_similarity(padded_xtest, padded_ytest):\n",
    "    scores = []\n",
    "    for i in range(len(padded_xtest)):\n",
    "        try:\n",
    "            str1 = seq2summary(padded_ytest[i])\n",
    "            str2 = decode_sequence(padded_xtest[i].reshape(1,max_length_x))\n",
    "            embeddings = sentence_encoder([str1, str2]).numpy()\n",
    "            result = 1 - spatial.distance.cosine(embeddings[0], embeddings[1])\n",
    "            scores.append(result)\n",
    "        except:\n",
    "            pass\n",
    "    return scores"
   ]
  },
  {
   "cell_type": "code",
   "execution_count": 40,
   "id": "6eb4bd11",
   "metadata": {
    "execution": {
     "iopub.execute_input": "2021-08-29T10:27:43.866795Z",
     "iopub.status.busy": "2021-08-29T10:27:43.865972Z",
     "iopub.status.idle": "2021-08-29T12:33:50.246873Z",
     "shell.execute_reply": "2021-08-29T12:33:50.247369Z",
     "shell.execute_reply.started": "2021-08-21T11:17:48.502632Z"
    },
    "id": "SoB-bWnvcNC9",
    "outputId": "a83b5641-48b0-4ac3-916c-7a0b6d62f644",
    "papermill": {
     "duration": 7568.022769,
     "end_time": "2021-08-29T12:33:50.247549",
     "exception": false,
     "start_time": "2021-08-29T10:27:42.224780",
     "status": "completed"
    },
    "tags": []
   },
   "outputs": [
    {
     "data": {
      "text/plain": [
       "0.37166705154858637"
      ]
     },
     "execution_count": 40,
     "metadata": {},
     "output_type": "execute_result"
    }
   ],
   "source": [
    "scores = cosine_similarity(padded_xtest, padded_ytest)\n",
    "np.mean(scores)"
   ]
  }
 ],
 "metadata": {
  "kernelspec": {
   "display_name": "Python 3 (ipykernel)",
   "language": "python",
   "name": "python3"
  },
  "language_info": {
   "codemirror_mode": {
    "name": "ipython",
    "version": 3
   },
   "file_extension": ".py",
   "mimetype": "text/x-python",
   "name": "python",
   "nbconvert_exporter": "python",
   "pygments_lexer": "ipython3",
   "version": "3.10.9"
  },
  "papermill": {
   "default_parameters": {},
   "duration": 29017.259562,
   "end_time": "2021-08-29T12:33:55.879087",
   "environment_variables": {},
   "exception": null,
   "input_path": "__notebook__.ipynb",
   "output_path": "__notebook__.ipynb",
   "parameters": {},
   "start_time": "2021-08-29T04:30:18.619525",
   "version": "2.3.3"
  }
 },
 "nbformat": 4,
 "nbformat_minor": 5
}
